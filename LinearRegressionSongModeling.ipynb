{
  "nbformat": 4,
  "nbformat_minor": 0,
  "metadata": {
    "colab": {
      "provenance": [],
      "authorship_tag": "ABX9TyPt0rslfuv2kL66O61ofbtq",
      "include_colab_link": true
    },
    "kernelspec": {
      "name": "python3",
      "display_name": "Python 3"
    },
    "language_info": {
      "name": "python"
    }
  },
  "cells": [
    {
      "cell_type": "markdown",
      "metadata": {
        "id": "view-in-github",
        "colab_type": "text"
      },
      "source": [
        "<a href=\"https://colab.research.google.com/github/xxilytoo/Song-Prediction/blob/main/LinearRegressionSongModeling.ipynb\" target=\"_parent\"><img src=\"https://colab.research.google.com/assets/colab-badge.svg\" alt=\"Open In Colab\"/></a>"
      ]
    },
    {
      "cell_type": "code",
      "execution_count": null,
      "metadata": {
        "id": "6lYhiaZm2nK6"
      },
      "outputs": [],
      "source": [
        "import numpy as np\n",
        "import pandas as pd\n",
        "import matplotlib.pyplot as plt\n"
      ]
    },
    {
      "cell_type": "code",
      "source": [
        "df = pd.read_csv(\"song_data.csv\")"
      ],
      "metadata": {
        "id": "A34BUhDD4wAc"
      },
      "execution_count": null,
      "outputs": []
    },
    {
      "cell_type": "code",
      "source": [
        "#Examine Head of the Data\n",
        "df.head()"
      ],
      "metadata": {
        "colab": {
          "base_uri": "https://localhost:8080/",
          "height": 348
        },
        "id": "aBLp3eCM43et",
        "outputId": "ec2be15b-3c97-4fb8-c8ba-318b0a621819"
      },
      "execution_count": null,
      "outputs": [
        {
          "output_type": "execute_result",
          "data": {
            "text/plain": [
              "                    song_name  song_popularity  song_duration_ms  \\\n",
              "0  Boulevard of Broken Dreams               73            262333   \n",
              "1                  In The End               66            216933   \n",
              "2           Seven Nation Army               76            231733   \n",
              "3                  By The Way               74            216933   \n",
              "4           How You Remind Me               56            223826   \n",
              "\n",
              "   acousticness  danceability  energy  instrumentalness  key  liveness  \\\n",
              "0      0.005520         0.496   0.682          0.000029    8    0.0589   \n",
              "1      0.010300         0.542   0.853          0.000000    3    0.1080   \n",
              "2      0.008170         0.737   0.463          0.447000    0    0.2550   \n",
              "3      0.026400         0.451   0.970          0.003550    0    0.1020   \n",
              "4      0.000954         0.447   0.766          0.000000   10    0.1130   \n",
              "\n",
              "   loudness  audio_mode  speechiness    tempo  time_signature  audio_valence  \n",
              "0    -4.095           1       0.0294  167.060               4          0.474  \n",
              "1    -6.407           0       0.0498  105.256               4          0.370  \n",
              "2    -7.828           1       0.0792  123.881               4          0.324  \n",
              "3    -4.938           1       0.1070  122.444               4          0.198  \n",
              "4    -5.065           1       0.0313  172.011               4          0.574  "
            ],
            "text/html": [
              "\n",
              "  <div id=\"df-0fba94b9-714d-461b-9cd0-920c6d55e168\" class=\"colab-df-container\">\n",
              "    <div>\n",
              "<style scoped>\n",
              "    .dataframe tbody tr th:only-of-type {\n",
              "        vertical-align: middle;\n",
              "    }\n",
              "\n",
              "    .dataframe tbody tr th {\n",
              "        vertical-align: top;\n",
              "    }\n",
              "\n",
              "    .dataframe thead th {\n",
              "        text-align: right;\n",
              "    }\n",
              "</style>\n",
              "<table border=\"1\" class=\"dataframe\">\n",
              "  <thead>\n",
              "    <tr style=\"text-align: right;\">\n",
              "      <th></th>\n",
              "      <th>song_name</th>\n",
              "      <th>song_popularity</th>\n",
              "      <th>song_duration_ms</th>\n",
              "      <th>acousticness</th>\n",
              "      <th>danceability</th>\n",
              "      <th>energy</th>\n",
              "      <th>instrumentalness</th>\n",
              "      <th>key</th>\n",
              "      <th>liveness</th>\n",
              "      <th>loudness</th>\n",
              "      <th>audio_mode</th>\n",
              "      <th>speechiness</th>\n",
              "      <th>tempo</th>\n",
              "      <th>time_signature</th>\n",
              "      <th>audio_valence</th>\n",
              "    </tr>\n",
              "  </thead>\n",
              "  <tbody>\n",
              "    <tr>\n",
              "      <th>0</th>\n",
              "      <td>Boulevard of Broken Dreams</td>\n",
              "      <td>73</td>\n",
              "      <td>262333</td>\n",
              "      <td>0.005520</td>\n",
              "      <td>0.496</td>\n",
              "      <td>0.682</td>\n",
              "      <td>0.000029</td>\n",
              "      <td>8</td>\n",
              "      <td>0.0589</td>\n",
              "      <td>-4.095</td>\n",
              "      <td>1</td>\n",
              "      <td>0.0294</td>\n",
              "      <td>167.060</td>\n",
              "      <td>4</td>\n",
              "      <td>0.474</td>\n",
              "    </tr>\n",
              "    <tr>\n",
              "      <th>1</th>\n",
              "      <td>In The End</td>\n",
              "      <td>66</td>\n",
              "      <td>216933</td>\n",
              "      <td>0.010300</td>\n",
              "      <td>0.542</td>\n",
              "      <td>0.853</td>\n",
              "      <td>0.000000</td>\n",
              "      <td>3</td>\n",
              "      <td>0.1080</td>\n",
              "      <td>-6.407</td>\n",
              "      <td>0</td>\n",
              "      <td>0.0498</td>\n",
              "      <td>105.256</td>\n",
              "      <td>4</td>\n",
              "      <td>0.370</td>\n",
              "    </tr>\n",
              "    <tr>\n",
              "      <th>2</th>\n",
              "      <td>Seven Nation Army</td>\n",
              "      <td>76</td>\n",
              "      <td>231733</td>\n",
              "      <td>0.008170</td>\n",
              "      <td>0.737</td>\n",
              "      <td>0.463</td>\n",
              "      <td>0.447000</td>\n",
              "      <td>0</td>\n",
              "      <td>0.2550</td>\n",
              "      <td>-7.828</td>\n",
              "      <td>1</td>\n",
              "      <td>0.0792</td>\n",
              "      <td>123.881</td>\n",
              "      <td>4</td>\n",
              "      <td>0.324</td>\n",
              "    </tr>\n",
              "    <tr>\n",
              "      <th>3</th>\n",
              "      <td>By The Way</td>\n",
              "      <td>74</td>\n",
              "      <td>216933</td>\n",
              "      <td>0.026400</td>\n",
              "      <td>0.451</td>\n",
              "      <td>0.970</td>\n",
              "      <td>0.003550</td>\n",
              "      <td>0</td>\n",
              "      <td>0.1020</td>\n",
              "      <td>-4.938</td>\n",
              "      <td>1</td>\n",
              "      <td>0.1070</td>\n",
              "      <td>122.444</td>\n",
              "      <td>4</td>\n",
              "      <td>0.198</td>\n",
              "    </tr>\n",
              "    <tr>\n",
              "      <th>4</th>\n",
              "      <td>How You Remind Me</td>\n",
              "      <td>56</td>\n",
              "      <td>223826</td>\n",
              "      <td>0.000954</td>\n",
              "      <td>0.447</td>\n",
              "      <td>0.766</td>\n",
              "      <td>0.000000</td>\n",
              "      <td>10</td>\n",
              "      <td>0.1130</td>\n",
              "      <td>-5.065</td>\n",
              "      <td>1</td>\n",
              "      <td>0.0313</td>\n",
              "      <td>172.011</td>\n",
              "      <td>4</td>\n",
              "      <td>0.574</td>\n",
              "    </tr>\n",
              "  </tbody>\n",
              "</table>\n",
              "</div>\n",
              "    <div class=\"colab-df-buttons\">\n",
              "\n",
              "  <div class=\"colab-df-container\">\n",
              "    <button class=\"colab-df-convert\" onclick=\"convertToInteractive('df-0fba94b9-714d-461b-9cd0-920c6d55e168')\"\n",
              "            title=\"Convert this dataframe to an interactive table.\"\n",
              "            style=\"display:none;\">\n",
              "\n",
              "  <svg xmlns=\"http://www.w3.org/2000/svg\" height=\"24px\" viewBox=\"0 -960 960 960\">\n",
              "    <path d=\"M120-120v-720h720v720H120Zm60-500h600v-160H180v160Zm220 220h160v-160H400v160Zm0 220h160v-160H400v160ZM180-400h160v-160H180v160Zm440 0h160v-160H620v160ZM180-180h160v-160H180v160Zm440 0h160v-160H620v160Z\"/>\n",
              "  </svg>\n",
              "    </button>\n",
              "\n",
              "  <style>\n",
              "    .colab-df-container {\n",
              "      display:flex;\n",
              "      gap: 12px;\n",
              "    }\n",
              "\n",
              "    .colab-df-convert {\n",
              "      background-color: #E8F0FE;\n",
              "      border: none;\n",
              "      border-radius: 50%;\n",
              "      cursor: pointer;\n",
              "      display: none;\n",
              "      fill: #1967D2;\n",
              "      height: 32px;\n",
              "      padding: 0 0 0 0;\n",
              "      width: 32px;\n",
              "    }\n",
              "\n",
              "    .colab-df-convert:hover {\n",
              "      background-color: #E2EBFA;\n",
              "      box-shadow: 0px 1px 2px rgba(60, 64, 67, 0.3), 0px 1px 3px 1px rgba(60, 64, 67, 0.15);\n",
              "      fill: #174EA6;\n",
              "    }\n",
              "\n",
              "    .colab-df-buttons div {\n",
              "      margin-bottom: 4px;\n",
              "    }\n",
              "\n",
              "    [theme=dark] .colab-df-convert {\n",
              "      background-color: #3B4455;\n",
              "      fill: #D2E3FC;\n",
              "    }\n",
              "\n",
              "    [theme=dark] .colab-df-convert:hover {\n",
              "      background-color: #434B5C;\n",
              "      box-shadow: 0px 1px 3px 1px rgba(0, 0, 0, 0.15);\n",
              "      filter: drop-shadow(0px 1px 2px rgba(0, 0, 0, 0.3));\n",
              "      fill: #FFFFFF;\n",
              "    }\n",
              "  </style>\n",
              "\n",
              "    <script>\n",
              "      const buttonEl =\n",
              "        document.querySelector('#df-0fba94b9-714d-461b-9cd0-920c6d55e168 button.colab-df-convert');\n",
              "      buttonEl.style.display =\n",
              "        google.colab.kernel.accessAllowed ? 'block' : 'none';\n",
              "\n",
              "      async function convertToInteractive(key) {\n",
              "        const element = document.querySelector('#df-0fba94b9-714d-461b-9cd0-920c6d55e168');\n",
              "        const dataTable =\n",
              "          await google.colab.kernel.invokeFunction('convertToInteractive',\n",
              "                                                    [key], {});\n",
              "        if (!dataTable) return;\n",
              "\n",
              "        const docLinkHtml = 'Like what you see? Visit the ' +\n",
              "          '<a target=\"_blank\" href=https://colab.research.google.com/notebooks/data_table.ipynb>data table notebook</a>'\n",
              "          + ' to learn more about interactive tables.';\n",
              "        element.innerHTML = '';\n",
              "        dataTable['output_type'] = 'display_data';\n",
              "        await google.colab.output.renderOutput(dataTable, element);\n",
              "        const docLink = document.createElement('div');\n",
              "        docLink.innerHTML = docLinkHtml;\n",
              "        element.appendChild(docLink);\n",
              "      }\n",
              "    </script>\n",
              "  </div>\n",
              "\n",
              "\n",
              "<div id=\"df-de549179-f826-4e6c-a3a4-ce71521ad995\">\n",
              "  <button class=\"colab-df-quickchart\" onclick=\"quickchart('df-de549179-f826-4e6c-a3a4-ce71521ad995')\"\n",
              "            title=\"Suggest charts\"\n",
              "            style=\"display:none;\">\n",
              "\n",
              "<svg xmlns=\"http://www.w3.org/2000/svg\" height=\"24px\"viewBox=\"0 0 24 24\"\n",
              "     width=\"24px\">\n",
              "    <g>\n",
              "        <path d=\"M19 3H5c-1.1 0-2 .9-2 2v14c0 1.1.9 2 2 2h14c1.1 0 2-.9 2-2V5c0-1.1-.9-2-2-2zM9 17H7v-7h2v7zm4 0h-2V7h2v10zm4 0h-2v-4h2v4z\"/>\n",
              "    </g>\n",
              "</svg>\n",
              "  </button>\n",
              "\n",
              "<style>\n",
              "  .colab-df-quickchart {\n",
              "      --bg-color: #E8F0FE;\n",
              "      --fill-color: #1967D2;\n",
              "      --hover-bg-color: #E2EBFA;\n",
              "      --hover-fill-color: #174EA6;\n",
              "      --disabled-fill-color: #AAA;\n",
              "      --disabled-bg-color: #DDD;\n",
              "  }\n",
              "\n",
              "  [theme=dark] .colab-df-quickchart {\n",
              "      --bg-color: #3B4455;\n",
              "      --fill-color: #D2E3FC;\n",
              "      --hover-bg-color: #434B5C;\n",
              "      --hover-fill-color: #FFFFFF;\n",
              "      --disabled-bg-color: #3B4455;\n",
              "      --disabled-fill-color: #666;\n",
              "  }\n",
              "\n",
              "  .colab-df-quickchart {\n",
              "    background-color: var(--bg-color);\n",
              "    border: none;\n",
              "    border-radius: 50%;\n",
              "    cursor: pointer;\n",
              "    display: none;\n",
              "    fill: var(--fill-color);\n",
              "    height: 32px;\n",
              "    padding: 0;\n",
              "    width: 32px;\n",
              "  }\n",
              "\n",
              "  .colab-df-quickchart:hover {\n",
              "    background-color: var(--hover-bg-color);\n",
              "    box-shadow: 0 1px 2px rgba(60, 64, 67, 0.3), 0 1px 3px 1px rgba(60, 64, 67, 0.15);\n",
              "    fill: var(--button-hover-fill-color);\n",
              "  }\n",
              "\n",
              "  .colab-df-quickchart-complete:disabled,\n",
              "  .colab-df-quickchart-complete:disabled:hover {\n",
              "    background-color: var(--disabled-bg-color);\n",
              "    fill: var(--disabled-fill-color);\n",
              "    box-shadow: none;\n",
              "  }\n",
              "\n",
              "  .colab-df-spinner {\n",
              "    border: 2px solid var(--fill-color);\n",
              "    border-color: transparent;\n",
              "    border-bottom-color: var(--fill-color);\n",
              "    animation:\n",
              "      spin 1s steps(1) infinite;\n",
              "  }\n",
              "\n",
              "  @keyframes spin {\n",
              "    0% {\n",
              "      border-color: transparent;\n",
              "      border-bottom-color: var(--fill-color);\n",
              "      border-left-color: var(--fill-color);\n",
              "    }\n",
              "    20% {\n",
              "      border-color: transparent;\n",
              "      border-left-color: var(--fill-color);\n",
              "      border-top-color: var(--fill-color);\n",
              "    }\n",
              "    30% {\n",
              "      border-color: transparent;\n",
              "      border-left-color: var(--fill-color);\n",
              "      border-top-color: var(--fill-color);\n",
              "      border-right-color: var(--fill-color);\n",
              "    }\n",
              "    40% {\n",
              "      border-color: transparent;\n",
              "      border-right-color: var(--fill-color);\n",
              "      border-top-color: var(--fill-color);\n",
              "    }\n",
              "    60% {\n",
              "      border-color: transparent;\n",
              "      border-right-color: var(--fill-color);\n",
              "    }\n",
              "    80% {\n",
              "      border-color: transparent;\n",
              "      border-right-color: var(--fill-color);\n",
              "      border-bottom-color: var(--fill-color);\n",
              "    }\n",
              "    90% {\n",
              "      border-color: transparent;\n",
              "      border-bottom-color: var(--fill-color);\n",
              "    }\n",
              "  }\n",
              "</style>\n",
              "\n",
              "  <script>\n",
              "    async function quickchart(key) {\n",
              "      const quickchartButtonEl =\n",
              "        document.querySelector('#' + key + ' button');\n",
              "      quickchartButtonEl.disabled = true;  // To prevent multiple clicks.\n",
              "      quickchartButtonEl.classList.add('colab-df-spinner');\n",
              "      try {\n",
              "        const charts = await google.colab.kernel.invokeFunction(\n",
              "            'suggestCharts', [key], {});\n",
              "      } catch (error) {\n",
              "        console.error('Error during call to suggestCharts:', error);\n",
              "      }\n",
              "      quickchartButtonEl.classList.remove('colab-df-spinner');\n",
              "      quickchartButtonEl.classList.add('colab-df-quickchart-complete');\n",
              "    }\n",
              "    (() => {\n",
              "      let quickchartButtonEl =\n",
              "        document.querySelector('#df-de549179-f826-4e6c-a3a4-ce71521ad995 button');\n",
              "      quickchartButtonEl.style.display =\n",
              "        google.colab.kernel.accessAllowed ? 'block' : 'none';\n",
              "    })();\n",
              "  </script>\n",
              "</div>\n",
              "    </div>\n",
              "  </div>\n"
            ]
          },
          "metadata": {},
          "execution_count": 5
        }
      ]
    },
    {
      "cell_type": "code",
      "source": [
        "df.shape #(rows, columns)"
      ],
      "metadata": {
        "colab": {
          "base_uri": "https://localhost:8080/"
        },
        "id": "eiimHAoT49es",
        "outputId": "5b858e5f-e2b7-4f4f-bfba-3b19b3dddbd4"
      },
      "execution_count": null,
      "outputs": [
        {
          "output_type": "execute_result",
          "data": {
            "text/plain": [
              "(18835, 15)"
            ]
          },
          "metadata": {},
          "execution_count": 8
        }
      ]
    },
    {
      "cell_type": "code",
      "source": [
        "df.info()"
      ],
      "metadata": {
        "colab": {
          "base_uri": "https://localhost:8080/"
        },
        "id": "BYA_MBQ45Hts",
        "outputId": "fcefa2ea-4cde-4aca-d055-be239f1bd868"
      },
      "execution_count": null,
      "outputs": [
        {
          "output_type": "stream",
          "name": "stdout",
          "text": [
            "<class 'pandas.core.frame.DataFrame'>\n",
            "RangeIndex: 18835 entries, 0 to 18834\n",
            "Data columns (total 15 columns):\n",
            " #   Column            Non-Null Count  Dtype  \n",
            "---  ------            --------------  -----  \n",
            " 0   song_name         18835 non-null  object \n",
            " 1   song_popularity   18835 non-null  int64  \n",
            " 2   song_duration_ms  18835 non-null  int64  \n",
            " 3   acousticness      18835 non-null  float64\n",
            " 4   danceability      18835 non-null  float64\n",
            " 5   energy            18835 non-null  float64\n",
            " 6   instrumentalness  18835 non-null  float64\n",
            " 7   key               18835 non-null  int64  \n",
            " 8   liveness          18835 non-null  float64\n",
            " 9   loudness          18835 non-null  float64\n",
            " 10  audio_mode        18835 non-null  int64  \n",
            " 11  speechiness       18835 non-null  float64\n",
            " 12  tempo             18835 non-null  float64\n",
            " 13  time_signature    18835 non-null  int64  \n",
            " 14  audio_valence     18835 non-null  float64\n",
            "dtypes: float64(9), int64(5), object(1)\n",
            "memory usage: 2.2+ MB\n"
          ]
        }
      ]
    },
    {
      "cell_type": "code",
      "source": [
        "df.columns"
      ],
      "metadata": {
        "colab": {
          "base_uri": "https://localhost:8080/"
        },
        "id": "vZZ6s70V5NFH",
        "outputId": "2071e5e7-1108-4713-f188-3aa5827d9bf3"
      },
      "execution_count": null,
      "outputs": [
        {
          "output_type": "execute_result",
          "data": {
            "text/plain": [
              "Index(['song_name', 'song_popularity', 'song_duration_ms', 'acousticness',\n",
              "       'danceability', 'energy', 'instrumentalness', 'key', 'liveness',\n",
              "       'loudness', 'audio_mode', 'speechiness', 'tempo', 'time_signature',\n",
              "       'audio_valence'],\n",
              "      dtype='object')"
            ]
          },
          "metadata": {},
          "execution_count": 10
        }
      ]
    },
    {
      "cell_type": "code",
      "source": [
        "df.describe"
      ],
      "metadata": {
        "colab": {
          "base_uri": "https://localhost:8080/"
        },
        "id": "F6AAv2SE5QMf",
        "outputId": "1932d56b-8afc-4002-acea-3f705175869d"
      },
      "execution_count": null,
      "outputs": [
        {
          "output_type": "execute_result",
          "data": {
            "text/plain": [
              "<bound method NDFrame.describe of                         song_name  song_popularity  song_duration_ms  \\\n",
              "0      Boulevard of Broken Dreams               73            262333   \n",
              "1                      In The End               66            216933   \n",
              "2               Seven Nation Army               76            231733   \n",
              "3                      By The Way               74            216933   \n",
              "4               How You Remind Me               56            223826   \n",
              "...                           ...              ...               ...   \n",
              "18830              Let It Breathe               60            159645   \n",
              "18831                     Answers               60            205666   \n",
              "18832      Sudden Love (Acoustic)               23            182211   \n",
              "18833           Gentle on My Mind               55            352280   \n",
              "18834                    Up to Me               60            193533   \n",
              "\n",
              "       acousticness  danceability  energy  instrumentalness  key  liveness  \\\n",
              "0          0.005520         0.496   0.682          0.000029    8    0.0589   \n",
              "1          0.010300         0.542   0.853          0.000000    3    0.1080   \n",
              "2          0.008170         0.737   0.463          0.447000    0    0.2550   \n",
              "3          0.026400         0.451   0.970          0.003550    0    0.1020   \n",
              "4          0.000954         0.447   0.766          0.000000   10    0.1130   \n",
              "...             ...           ...     ...               ...  ...       ...   \n",
              "18830      0.893000         0.500   0.151          0.000065   11    0.1110   \n",
              "18831      0.765000         0.495   0.161          0.000001   11    0.1050   \n",
              "18832      0.847000         0.719   0.325          0.000000    0    0.1250   \n",
              "18833      0.945000         0.488   0.326          0.015700    3    0.1190   \n",
              "18834      0.911000         0.640   0.381          0.000254    4    0.1040   \n",
              "\n",
              "       loudness  audio_mode  speechiness    tempo  time_signature  \\\n",
              "0        -4.095           1       0.0294  167.060               4   \n",
              "1        -6.407           0       0.0498  105.256               4   \n",
              "2        -7.828           1       0.0792  123.881               4   \n",
              "3        -4.938           1       0.1070  122.444               4   \n",
              "4        -5.065           1       0.0313  172.011               4   \n",
              "...         ...         ...          ...      ...             ...   \n",
              "18830   -16.107           1       0.0348  113.969               4   \n",
              "18831   -14.078           0       0.0301   94.286               4   \n",
              "18832   -12.222           1       0.0355  130.534               4   \n",
              "18833   -12.020           1       0.0328  106.063               4   \n",
              "18834   -11.790           1       0.0302   91.490               4   \n",
              "\n",
              "       audio_valence  \n",
              "0              0.474  \n",
              "1              0.370  \n",
              "2              0.324  \n",
              "3              0.198  \n",
              "4              0.574  \n",
              "...              ...  \n",
              "18830          0.300  \n",
              "18831          0.265  \n",
              "18832          0.286  \n",
              "18833          0.323  \n",
              "18834          0.581  \n",
              "\n",
              "[18835 rows x 15 columns]>"
            ]
          },
          "metadata": {},
          "execution_count": 11
        }
      ]
    },
    {
      "cell_type": "code",
      "source": [
        "print(\"Unique song popularity Values: \" + str(len(df['song_popularity'].unique())))"
      ],
      "metadata": {
        "colab": {
          "base_uri": "https://localhost:8080/"
        },
        "id": "KBPjt6hl5Y4s",
        "outputId": "77016dcf-7990-4d9e-c74a-01ba923430d9"
      },
      "execution_count": null,
      "outputs": [
        {
          "output_type": "stream",
          "name": "stdout",
          "text": [
            "Unique song popularity Values: 101\n"
          ]
        }
      ]
    },
    {
      "cell_type": "code",
      "source": [
        "print(\"Worst Song Popularity: \" + str(max(df['song_popularity'])))"
      ],
      "metadata": {
        "colab": {
          "base_uri": "https://localhost:8080/"
        },
        "id": "CjuYuFmq54TP",
        "outputId": "60324f8d-4e74-4147-b140-4038247669ec"
      },
      "execution_count": null,
      "outputs": [
        {
          "output_type": "stream",
          "name": "stdout",
          "text": [
            "Worst Song Popularity: 100\n"
          ]
        }
      ]
    },
    {
      "cell_type": "code",
      "source": [
        "print(\"Best Song Popularity: \" + str(min(df[\"song_popularity\"])))"
      ],
      "metadata": {
        "colab": {
          "base_uri": "https://localhost:8080/"
        },
        "id": "2azjGDvi6CIN",
        "outputId": "d477a488-9217-413a-fda0-a2661e3df03e"
      },
      "execution_count": null,
      "outputs": [
        {
          "output_type": "stream",
          "name": "stdout",
          "text": [
            "Best Song Popularity: 0\n"
          ]
        }
      ]
    },
    {
      "cell_type": "code",
      "source": [
        "x = df[['song_duration_ms', 'acousticness',\n",
        "       'danceability', 'energy', 'instrumentalness', 'key', 'liveness',\n",
        "       'loudness', 'audio_mode', 'speechiness', 'tempo', 'time_signature',\n",
        "       'audio_valence']]"
      ],
      "metadata": {
        "id": "uAmmwQBn6-ut"
      },
      "execution_count": null,
      "outputs": []
    },
    {
      "cell_type": "code",
      "source": [
        "y = df['song_popularity']"
      ],
      "metadata": {
        "id": "pOoELxij7L9Y"
      },
      "execution_count": null,
      "outputs": []
    },
    {
      "cell_type": "code",
      "source": [
        "from sklearn.model_selection import train_test_split"
      ],
      "metadata": {
        "id": "Zh-2QW9X7RfJ"
      },
      "execution_count": null,
      "outputs": []
    },
    {
      "cell_type": "code",
      "source": [
        "x_train, x_test,y_train, y_test = train_test_split(x,y,test_size = 0.2)"
      ],
      "metadata": {
        "id": "NBaA1j3E7ZA8"
      },
      "execution_count": null,
      "outputs": []
    },
    {
      "cell_type": "code",
      "source": [
        "from sklearn.linear_model import LinearRegression"
      ],
      "metadata": {
        "id": "hl2eNLj87kPu"
      },
      "execution_count": null,
      "outputs": []
    },
    {
      "cell_type": "code",
      "source": [
        "lm = LinearRegression()\n",
        "lm.fit(x_train, y_train)\n",
        "print(lm.coef_)"
      ],
      "metadata": {
        "colab": {
          "base_uri": "https://localhost:8080/"
        },
        "id": "wzwq1d0i7n68",
        "outputId": "94910fc9-bd8d-4bd4-8c96-ef9bc42a20b6"
      },
      "execution_count": null,
      "outputs": [
        {
          "output_type": "stream",
          "name": "stdout",
          "text": [
            "[-5.95572389e-06 -4.27971298e+00  1.33750761e+01 -1.16843210e+01\n",
            " -1.03556560e+01 -5.53279337e-02 -3.48790050e+00  7.00671282e-01\n",
            "  7.11009964e-01 -2.88191113e+00 -1.33692947e-02  1.20161137e+00\n",
            " -9.18808380e+00]\n"
          ]
        }
      ]
    },
    {
      "cell_type": "code",
      "source": [
        "pd.DataFrame(lm.coef_, x.columns, columns = [\"Coefficient\"])"
      ],
      "metadata": {
        "colab": {
          "base_uri": "https://localhost:8080/",
          "height": 457
        },
        "id": "sKHTP87s8ILT",
        "outputId": "146830d2-ca93-4e4e-c739-a71a91f53ec1"
      },
      "execution_count": null,
      "outputs": [
        {
          "output_type": "execute_result",
          "data": {
            "text/plain": [
              "                  Coefficient\n",
              "song_duration_ms    -0.000006\n",
              "acousticness        -4.279713\n",
              "danceability        13.375076\n",
              "energy             -11.684321\n",
              "instrumentalness   -10.355656\n",
              "key                 -0.055328\n",
              "liveness            -3.487901\n",
              "loudness             0.700671\n",
              "audio_mode           0.711010\n",
              "speechiness         -2.881911\n",
              "tempo               -0.013369\n",
              "time_signature       1.201611\n",
              "audio_valence       -9.188084"
            ],
            "text/html": [
              "\n",
              "  <div id=\"df-6fa8053e-3c48-464e-978e-5d3a8a5f812a\" class=\"colab-df-container\">\n",
              "    <div>\n",
              "<style scoped>\n",
              "    .dataframe tbody tr th:only-of-type {\n",
              "        vertical-align: middle;\n",
              "    }\n",
              "\n",
              "    .dataframe tbody tr th {\n",
              "        vertical-align: top;\n",
              "    }\n",
              "\n",
              "    .dataframe thead th {\n",
              "        text-align: right;\n",
              "    }\n",
              "</style>\n",
              "<table border=\"1\" class=\"dataframe\">\n",
              "  <thead>\n",
              "    <tr style=\"text-align: right;\">\n",
              "      <th></th>\n",
              "      <th>Coefficient</th>\n",
              "    </tr>\n",
              "  </thead>\n",
              "  <tbody>\n",
              "    <tr>\n",
              "      <th>song_duration_ms</th>\n",
              "      <td>-0.000006</td>\n",
              "    </tr>\n",
              "    <tr>\n",
              "      <th>acousticness</th>\n",
              "      <td>-4.279713</td>\n",
              "    </tr>\n",
              "    <tr>\n",
              "      <th>danceability</th>\n",
              "      <td>13.375076</td>\n",
              "    </tr>\n",
              "    <tr>\n",
              "      <th>energy</th>\n",
              "      <td>-11.684321</td>\n",
              "    </tr>\n",
              "    <tr>\n",
              "      <th>instrumentalness</th>\n",
              "      <td>-10.355656</td>\n",
              "    </tr>\n",
              "    <tr>\n",
              "      <th>key</th>\n",
              "      <td>-0.055328</td>\n",
              "    </tr>\n",
              "    <tr>\n",
              "      <th>liveness</th>\n",
              "      <td>-3.487901</td>\n",
              "    </tr>\n",
              "    <tr>\n",
              "      <th>loudness</th>\n",
              "      <td>0.700671</td>\n",
              "    </tr>\n",
              "    <tr>\n",
              "      <th>audio_mode</th>\n",
              "      <td>0.711010</td>\n",
              "    </tr>\n",
              "    <tr>\n",
              "      <th>speechiness</th>\n",
              "      <td>-2.881911</td>\n",
              "    </tr>\n",
              "    <tr>\n",
              "      <th>tempo</th>\n",
              "      <td>-0.013369</td>\n",
              "    </tr>\n",
              "    <tr>\n",
              "      <th>time_signature</th>\n",
              "      <td>1.201611</td>\n",
              "    </tr>\n",
              "    <tr>\n",
              "      <th>audio_valence</th>\n",
              "      <td>-9.188084</td>\n",
              "    </tr>\n",
              "  </tbody>\n",
              "</table>\n",
              "</div>\n",
              "    <div class=\"colab-df-buttons\">\n",
              "\n",
              "  <div class=\"colab-df-container\">\n",
              "    <button class=\"colab-df-convert\" onclick=\"convertToInteractive('df-6fa8053e-3c48-464e-978e-5d3a8a5f812a')\"\n",
              "            title=\"Convert this dataframe to an interactive table.\"\n",
              "            style=\"display:none;\">\n",
              "\n",
              "  <svg xmlns=\"http://www.w3.org/2000/svg\" height=\"24px\" viewBox=\"0 -960 960 960\">\n",
              "    <path d=\"M120-120v-720h720v720H120Zm60-500h600v-160H180v160Zm220 220h160v-160H400v160Zm0 220h160v-160H400v160ZM180-400h160v-160H180v160Zm440 0h160v-160H620v160ZM180-180h160v-160H180v160Zm440 0h160v-160H620v160Z\"/>\n",
              "  </svg>\n",
              "    </button>\n",
              "\n",
              "  <style>\n",
              "    .colab-df-container {\n",
              "      display:flex;\n",
              "      gap: 12px;\n",
              "    }\n",
              "\n",
              "    .colab-df-convert {\n",
              "      background-color: #E8F0FE;\n",
              "      border: none;\n",
              "      border-radius: 50%;\n",
              "      cursor: pointer;\n",
              "      display: none;\n",
              "      fill: #1967D2;\n",
              "      height: 32px;\n",
              "      padding: 0 0 0 0;\n",
              "      width: 32px;\n",
              "    }\n",
              "\n",
              "    .colab-df-convert:hover {\n",
              "      background-color: #E2EBFA;\n",
              "      box-shadow: 0px 1px 2px rgba(60, 64, 67, 0.3), 0px 1px 3px 1px rgba(60, 64, 67, 0.15);\n",
              "      fill: #174EA6;\n",
              "    }\n",
              "\n",
              "    .colab-df-buttons div {\n",
              "      margin-bottom: 4px;\n",
              "    }\n",
              "\n",
              "    [theme=dark] .colab-df-convert {\n",
              "      background-color: #3B4455;\n",
              "      fill: #D2E3FC;\n",
              "    }\n",
              "\n",
              "    [theme=dark] .colab-df-convert:hover {\n",
              "      background-color: #434B5C;\n",
              "      box-shadow: 0px 1px 3px 1px rgba(0, 0, 0, 0.15);\n",
              "      filter: drop-shadow(0px 1px 2px rgba(0, 0, 0, 0.3));\n",
              "      fill: #FFFFFF;\n",
              "    }\n",
              "  </style>\n",
              "\n",
              "    <script>\n",
              "      const buttonEl =\n",
              "        document.querySelector('#df-6fa8053e-3c48-464e-978e-5d3a8a5f812a button.colab-df-convert');\n",
              "      buttonEl.style.display =\n",
              "        google.colab.kernel.accessAllowed ? 'block' : 'none';\n",
              "\n",
              "      async function convertToInteractive(key) {\n",
              "        const element = document.querySelector('#df-6fa8053e-3c48-464e-978e-5d3a8a5f812a');\n",
              "        const dataTable =\n",
              "          await google.colab.kernel.invokeFunction('convertToInteractive',\n",
              "                                                    [key], {});\n",
              "        if (!dataTable) return;\n",
              "\n",
              "        const docLinkHtml = 'Like what you see? Visit the ' +\n",
              "          '<a target=\"_blank\" href=https://colab.research.google.com/notebooks/data_table.ipynb>data table notebook</a>'\n",
              "          + ' to learn more about interactive tables.';\n",
              "        element.innerHTML = '';\n",
              "        dataTable['output_type'] = 'display_data';\n",
              "        await google.colab.output.renderOutput(dataTable, element);\n",
              "        const docLink = document.createElement('div');\n",
              "        docLink.innerHTML = docLinkHtml;\n",
              "        element.appendChild(docLink);\n",
              "      }\n",
              "    </script>\n",
              "  </div>\n",
              "\n",
              "\n",
              "<div id=\"df-2896d2ed-2a16-4d1f-838a-130bd93944be\">\n",
              "  <button class=\"colab-df-quickchart\" onclick=\"quickchart('df-2896d2ed-2a16-4d1f-838a-130bd93944be')\"\n",
              "            title=\"Suggest charts\"\n",
              "            style=\"display:none;\">\n",
              "\n",
              "<svg xmlns=\"http://www.w3.org/2000/svg\" height=\"24px\"viewBox=\"0 0 24 24\"\n",
              "     width=\"24px\">\n",
              "    <g>\n",
              "        <path d=\"M19 3H5c-1.1 0-2 .9-2 2v14c0 1.1.9 2 2 2h14c1.1 0 2-.9 2-2V5c0-1.1-.9-2-2-2zM9 17H7v-7h2v7zm4 0h-2V7h2v10zm4 0h-2v-4h2v4z\"/>\n",
              "    </g>\n",
              "</svg>\n",
              "  </button>\n",
              "\n",
              "<style>\n",
              "  .colab-df-quickchart {\n",
              "      --bg-color: #E8F0FE;\n",
              "      --fill-color: #1967D2;\n",
              "      --hover-bg-color: #E2EBFA;\n",
              "      --hover-fill-color: #174EA6;\n",
              "      --disabled-fill-color: #AAA;\n",
              "      --disabled-bg-color: #DDD;\n",
              "  }\n",
              "\n",
              "  [theme=dark] .colab-df-quickchart {\n",
              "      --bg-color: #3B4455;\n",
              "      --fill-color: #D2E3FC;\n",
              "      --hover-bg-color: #434B5C;\n",
              "      --hover-fill-color: #FFFFFF;\n",
              "      --disabled-bg-color: #3B4455;\n",
              "      --disabled-fill-color: #666;\n",
              "  }\n",
              "\n",
              "  .colab-df-quickchart {\n",
              "    background-color: var(--bg-color);\n",
              "    border: none;\n",
              "    border-radius: 50%;\n",
              "    cursor: pointer;\n",
              "    display: none;\n",
              "    fill: var(--fill-color);\n",
              "    height: 32px;\n",
              "    padding: 0;\n",
              "    width: 32px;\n",
              "  }\n",
              "\n",
              "  .colab-df-quickchart:hover {\n",
              "    background-color: var(--hover-bg-color);\n",
              "    box-shadow: 0 1px 2px rgba(60, 64, 67, 0.3), 0 1px 3px 1px rgba(60, 64, 67, 0.15);\n",
              "    fill: var(--button-hover-fill-color);\n",
              "  }\n",
              "\n",
              "  .colab-df-quickchart-complete:disabled,\n",
              "  .colab-df-quickchart-complete:disabled:hover {\n",
              "    background-color: var(--disabled-bg-color);\n",
              "    fill: var(--disabled-fill-color);\n",
              "    box-shadow: none;\n",
              "  }\n",
              "\n",
              "  .colab-df-spinner {\n",
              "    border: 2px solid var(--fill-color);\n",
              "    border-color: transparent;\n",
              "    border-bottom-color: var(--fill-color);\n",
              "    animation:\n",
              "      spin 1s steps(1) infinite;\n",
              "  }\n",
              "\n",
              "  @keyframes spin {\n",
              "    0% {\n",
              "      border-color: transparent;\n",
              "      border-bottom-color: var(--fill-color);\n",
              "      border-left-color: var(--fill-color);\n",
              "    }\n",
              "    20% {\n",
              "      border-color: transparent;\n",
              "      border-left-color: var(--fill-color);\n",
              "      border-top-color: var(--fill-color);\n",
              "    }\n",
              "    30% {\n",
              "      border-color: transparent;\n",
              "      border-left-color: var(--fill-color);\n",
              "      border-top-color: var(--fill-color);\n",
              "      border-right-color: var(--fill-color);\n",
              "    }\n",
              "    40% {\n",
              "      border-color: transparent;\n",
              "      border-right-color: var(--fill-color);\n",
              "      border-top-color: var(--fill-color);\n",
              "    }\n",
              "    60% {\n",
              "      border-color: transparent;\n",
              "      border-right-color: var(--fill-color);\n",
              "    }\n",
              "    80% {\n",
              "      border-color: transparent;\n",
              "      border-right-color: var(--fill-color);\n",
              "      border-bottom-color: var(--fill-color);\n",
              "    }\n",
              "    90% {\n",
              "      border-color: transparent;\n",
              "      border-bottom-color: var(--fill-color);\n",
              "    }\n",
              "  }\n",
              "</style>\n",
              "\n",
              "  <script>\n",
              "    async function quickchart(key) {\n",
              "      const quickchartButtonEl =\n",
              "        document.querySelector('#' + key + ' button');\n",
              "      quickchartButtonEl.disabled = true;  // To prevent multiple clicks.\n",
              "      quickchartButtonEl.classList.add('colab-df-spinner');\n",
              "      try {\n",
              "        const charts = await google.colab.kernel.invokeFunction(\n",
              "            'suggestCharts', [key], {});\n",
              "      } catch (error) {\n",
              "        console.error('Error during call to suggestCharts:', error);\n",
              "      }\n",
              "      quickchartButtonEl.classList.remove('colab-df-spinner');\n",
              "      quickchartButtonEl.classList.add('colab-df-quickchart-complete');\n",
              "    }\n",
              "    (() => {\n",
              "      let quickchartButtonEl =\n",
              "        document.querySelector('#df-2896d2ed-2a16-4d1f-838a-130bd93944be button');\n",
              "      quickchartButtonEl.style.display =\n",
              "        google.colab.kernel.accessAllowed ? 'block' : 'none';\n",
              "    })();\n",
              "  </script>\n",
              "</div>\n",
              "    </div>\n",
              "  </div>\n"
            ]
          },
          "metadata": {},
          "execution_count": 34
        }
      ]
    },
    {
      "cell_type": "code",
      "source": [
        "predictions = lm.predict(x_test)\n",
        "print(predictions)"
      ],
      "metadata": {
        "colab": {
          "base_uri": "https://localhost:8080/"
        },
        "id": "hok8HZFA8kFj",
        "outputId": "0dd19cbd-a821-4d91-c5ce-cc540be52279"
      },
      "execution_count": null,
      "outputs": [
        {
          "output_type": "stream",
          "name": "stdout",
          "text": [
            "[57.03519419 45.16836839 52.86749609 ... 53.32705565 56.90245481\n",
            " 49.20995528]\n"
          ]
        }
      ]
    },
    {
      "cell_type": "code",
      "source": [
        "from sklearn import metrics"
      ],
      "metadata": {
        "id": "U62FsdHf9duf"
      },
      "execution_count": null,
      "outputs": []
    },
    {
      "cell_type": "code",
      "source": [
        "#mean absolute error (how far apart the datapoints is on average from the true one)\n",
        "metrics.mean_absolute_error(y_test, predictions)"
      ],
      "metadata": {
        "colab": {
          "base_uri": "https://localhost:8080/"
        },
        "id": "vVl1KIE-9Ue6",
        "outputId": "ecf23bc9-e7c8-4af0-e091-c69f963c64af"
      },
      "execution_count": null,
      "outputs": [
        {
          "output_type": "execute_result",
          "data": {
            "text/plain": [
              "17.129548163530313"
            ]
          },
          "metadata": {},
          "execution_count": 47
        }
      ]
    },
    {
      "cell_type": "code",
      "source": [
        "#Mean Sqaure Error - how close regression line is to a set of data points\n",
        "metrics.mean_squared_error(y_test, predictions)"
      ],
      "metadata": {
        "colab": {
          "base_uri": "https://localhost:8080/"
        },
        "id": "NXzjyC_L_GmD",
        "outputId": "c8046148-33d8-42b1-e6c9-2758937760cb"
      },
      "execution_count": null,
      "outputs": [
        {
          "output_type": "execute_result",
          "data": {
            "text/plain": [
              "460.9893545684438"
            ]
          },
          "metadata": {},
          "execution_count": 48
        }
      ]
    }
  ]
}